{
  "nbformat": 4,
  "nbformat_minor": 0,
  "metadata": {
    "colab": {
      "provenance": []
    },
    "kernelspec": {
      "name": "python3",
      "display_name": "Python 3"
    },
    "language_info": {
      "name": "python"
    }
  },
  "cells": [
    {
      "cell_type": "markdown",
      "source": [
        "Gestor de tareas personales"
      ],
      "metadata": {
        "id": "4hiE8ryeB-qN"
      }
    },
    {
      "cell_type": "code",
      "execution_count": 9,
      "metadata": {
        "colab": {
          "base_uri": "https://localhost:8080/"
        },
        "id": "Su_lZwL796yk",
        "outputId": "8d47bf45-b213-4697-f44f-ee06fb30ed01"
      },
      "outputs": [
        {
          "output_type": "stream",
          "name": "stdout",
          "text": [
            "\n",
            "Gestor de Tareas\n",
            "\n",
            "1. Agregar tarea\n",
            "2. Listar tareas\n",
            "3. Marcar tarea como completada\n",
            "4. Eliminar tarea\n",
            "5. Salir\n",
            "\n",
            "Elige una opción: 5\n",
            "\n",
            "Saliendo del gestor de tareas\n"
          ]
        }
      ],
      "source": [
        "tareas = []\n",
        "\n",
        "while True:\n",
        "    print(\"\\nGestor de Tareas\")\n",
        "    print(\"\\n1. Agregar tarea\")\n",
        "    print(\"2. Listar tareas\")\n",
        "    print(\"3. Marcar tarea como completada\")\n",
        "    print(\"4. Eliminar tarea\")\n",
        "    print(\"5. Salir\")\n",
        "\n",
        "    opcion = input(\"\\nElige una opción: \")\n",
        "\n",
        "    if opcion == \"1\":\n",
        "        nueva = input(\"Escribe tu tarea: \")\n",
        "        tareas.append(nueva + \" [Pendiente]\")\n",
        "        print(\"\\nTarea agregada.\")\n",
        "\n",
        "    elif opcion == \"2\":\n",
        "        if len(tareas) == 0:\n",
        "            print(\"\\nNo tienes tareas.\")\n",
        "        else:\n",
        "            print(\"\\n--- Tareas actuales ---\")\n",
        "            for i in range(len(tareas)):\n",
        "                print(f\"{i+1}. {tareas[i]}\")\n",
        "\n",
        "    elif opcion == \"3\":\n",
        "        if len(tareas) == 0:\n",
        "            print(\"\\nNo hay tareas para marcar.\")\n",
        "        else:\n",
        "            num = int(input(\"\\nNúmero de la tarea a marcar: \"))\n",
        "            if 1 <= num <= len(tareas):\n",
        "                tareas[num-1] = tareas[num-1].replace(\"[Pendiente]\", \"[Completada]\")\n",
        "                print(\"\\nTarea marcada como completada\")\n",
        "            else:\n",
        "                print(\"\\nNúmero inválido\")\n",
        "\n",
        "    elif opcion == \"4\":\n",
        "        if len(tareas) == 0:\n",
        "            print(\"\\nNo hay tareas para eliminar\")\n",
        "        else:\n",
        "            num = int(input(\"\\nNúmero de la tarea a eliminar: \"))\n",
        "            if 1 <= num <= len(tareas):\n",
        "                eliminada = tareas.pop(num-1)\n",
        "                print(f\"\\nTarea: '{eliminada}' eliminada.\")\n",
        "            else:\n",
        "                print(\"\\nNúmero inválido\")\n",
        "\n",
        "    elif opcion == \"5\":\n",
        "        print(\"\\nSaliendo del gestor de tareas\")\n",
        "        break\n",
        "\n",
        "    else:\n",
        "        print(\"\\nOpción no válida\")"
      ]
    }
  ]
}