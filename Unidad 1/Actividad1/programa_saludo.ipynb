{
  "cells": [
    {
      "cell_type": "markdown",
      "metadata": {
        "id": "cZApf0rn4LiQ"
      },
      "source": [
        "Actividad 1 - Parte A"
      ]
    },
    {
      "cell_type": "code",
      "execution_count": 1,
      "metadata": {
        "colab": {
          "base_uri": "https://localhost:8080/"
        },
        "id": "MU_vdEnH3JU4",
        "outputId": "f6fcc381-3e0a-47ac-8f07-380ae467cb96"
      },
      "outputs": [
        {
          "name": "stdout",
          "output_type": "stream",
          "text": [
            "Hola, este es mi primer programa en Python\n"
          ]
        }
      ],
      "source": [
        "print(\"Hola, este es mi primer programa en Python\")"
      ]
    },
    {
      "cell_type": "code",
      "execution_count": 2,
      "metadata": {
        "colab": {
          "base_uri": "https://localhost:8080/"
        },
        "id": "0rq4y--O4hsT",
        "outputId": "3e61d7e6-735d-43ce-804a-732bc7f72be8"
      },
      "outputs": [
        {
          "name": "stdout",
          "output_type": "stream",
          "text": [
            "¿Cuál es tu nombre? Eunice\n",
            "¿Cuántos años tienes? 22\n",
            "Hola Eunice, tienes 22 años\n"
          ]
        }
      ],
      "source": [
        "nombre = input(\"¿Cuál es tu nombre? \")\n",
        "edad = input(\"¿Cuántos años tienes? \")\n",
        "\n",
        "print(f\"Hola {nombre}, tienes {edad} años\")"
      ]
    }
  ],
  "metadata": {
    "colab": {
      "provenance": []
    },
    "kernelspec": {
      "display_name": "Python 3",
      "name": "python3"
    },
    "language_info": {
      "name": "python"
    }
  },
  "nbformat": 4,
  "nbformat_minor": 0
}
