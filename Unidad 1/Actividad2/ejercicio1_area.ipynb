{
  "cells": [
    {
      "cell_type": "markdown",
      "metadata": {
        "id": "bxOuHTiPJaSA"
      },
      "source": [
        "Programa que calcula el área de la figura que selecciona el usuario"
      ]
    },
    {
      "cell_type": "code",
      "execution_count": null,
      "metadata": {
        "colab": {
          "base_uri": "https://localhost:8080/"
        },
        "id": "Mp5gVZpaIviK",
        "outputId": "6c104537-140d-47a8-cd86-faac46a1eb7a"
      },
      "outputs": [],
      "source": [
        "import math\n",
        "\n",
        "print(\"Figuras\")\n",
        "print(\"1. Triángulo\")\n",
        "print(\"2. Cuadrado\")\n",
        "print(\"3. Círculo\")\n",
        "\n",
        "opcion = input(\"Seleccione el número de la figura a la cual desea calcular su área (1,2 ó 3): \")\n",
        "\n",
        "if opcion == \"1\":\n",
        "    base = float(input(\"Ingrese la base del triángulo: \"))\n",
        "    altura = float(input(\"Ingrese la altura del triángulo: \"))\n",
        "    area = (base * altura) / 2\n",
        "    print(f\"El área del triángulo es: {area}\")\n",
        "elif opcion == \"2\":\n",
        "    lado = float(input(\"Ingrese el lado del cuadrado: \"))\n",
        "    area = lado * lado\n",
        "    print(f\"El área del cuadrado es: {area}\")\n",
        "elif opcion == \"3\":\n",
        "    radio = float(input(\"Ingrese el radio del círculo: \"))\n",
        "    area = math.pi * (radio ** 2)\n",
        "    print(f\"El área del círculo es: {area}\")\n",
        "else:\n",
        "    print(\"Está opción no es válida\")"
      ]
    }
  ],
  "metadata": {
    "colab": {
      "provenance": []
    },
    "kernelspec": {
      "display_name": "Python 3",
      "name": "python3"
    },
    "language_info": {
      "name": "python"
    }
  },
  "nbformat": 4,
  "nbformat_minor": 0
}
