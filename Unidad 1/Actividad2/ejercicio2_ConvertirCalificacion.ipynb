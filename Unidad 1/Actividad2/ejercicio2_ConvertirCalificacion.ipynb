{
  "nbformat": 4,
  "nbformat_minor": 0,
  "metadata": {
    "colab": {
      "provenance": []
    },
    "kernelspec": {
      "name": "python3",
      "display_name": "Python 3"
    },
    "language_info": {
      "name": "python"
    }
  },
  "cells": [
    {
      "cell_type": "markdown",
      "source": [
        "Ejercicio de conversión de calificación numérica a letra"
      ],
      "metadata": {
        "id": "dj9WJNo2OEwL"
      }
    },
    {
      "cell_type": "code",
      "execution_count": 7,
      "metadata": {
        "colab": {
          "base_uri": "https://localhost:8080/"
        },
        "id": "kMKqMYXEN_CE",
        "outputId": "4560ca5d-eb80-41d6-fab2-d21cc62c7d50"
      },
      "outputs": [
        {
          "output_type": "stream",
          "name": "stdout",
          "text": [
            "Conversión de calificación numérica a letra\n",
            "Ingresa tu calificación (0-100): 60\n",
            "Tu calificación en letra es: D\n"
          ]
        }
      ],
      "source": [
        "print(\"Conversión de calificación numérica a letra\")\n",
        "calificacion = int(input(\"Ingresa tu calificación (0-100): \"))\n",
        "\n",
        "\n",
        "if (calificacion>=90) and (calificacion<=100):\n",
        "    letra = \"A\"\n",
        "elif (calificacion>=80) and (calificacion<=89):\n",
        "    letra = \"B\"\n",
        "elif (calificacion>=70) and (calificacion<=79):\n",
        "    letra = \"C\"\n",
        "elif (calificacion>=60) and (calificacion<=69):\n",
        "    letra = \"D\"\n",
        "elif (calificacion>=0) and (calificacion<=59):\n",
        "    letra = \"F\"\n",
        "else:\n",
        "    letra = \"Calificación inválida\"\n",
        "\n",
        "print(f\"Tu calificación en letra es: {letra}\")"
      ]
    }
  ]
}