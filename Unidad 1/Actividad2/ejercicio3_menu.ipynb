{
  "nbformat": 4,
  "nbformat_minor": 0,
  "metadata": {
    "colab": {
      "provenance": []
    },
    "kernelspec": {
      "name": "python3",
      "display_name": "Python 3"
    },
    "language_info": {
      "name": "python"
    }
  },
  "cells": [
    {
      "cell_type": "markdown",
      "source": [
        "Ejercicio de un menú de opciones utilizando el ciclo while"
      ],
      "metadata": {
        "id": "1ISR5EEbnTu4"
      }
    },
    {
      "cell_type": "code",
      "execution_count": 1,
      "metadata": {
        "colab": {
          "base_uri": "https://localhost:8080/"
        },
        "id": "RefTh761nQJH",
        "outputId": "396276d3-b325-4bad-ab7e-4f241125bf2b"
      },
      "outputs": [
        {
          "output_type": "stream",
          "name": "stdout",
          "text": [
            "Menú de operaciones\n",
            "1. Suma\n",
            "2. Resta\n",
            "3. Multiplicación\n",
            "4. Salir\n",
            "Ingresa el número de la opción a elegir (1-4): 1\n",
            "Ingrese un número: 4\n",
            "Ingrese otro número: 4\n",
            "El resultado de la suma es: 8.0\n",
            "1. Suma\n",
            "2. Resta\n",
            "3. Multiplicación\n",
            "4. Salir\n",
            "Ingresa el número de la opción a elegir (1-4): 1\n",
            "Ingrese un número: 1\n",
            "Ingrese otro número: 1\n",
            "El resultado de la suma es: 2.0\n",
            "1. Suma\n",
            "2. Resta\n",
            "3. Multiplicación\n",
            "4. Salir\n",
            "Ingresa el número de la opción a elegir (1-4): 2\n",
            "Ingrese un número: 5\n",
            "Ingrese otro número: 5\n",
            "El resultado de la resta es: 0.0\n",
            "1. Suma\n",
            "2. Resta\n",
            "3. Multiplicación\n",
            "4. Salir\n",
            "Ingresa el número de la opción a elegir (1-4): 3\n",
            "Ingrese un número: 6\n",
            "Ingrese otro número: 6\n",
            "El resultado de la multiplicación es: 36.0\n",
            "1. Suma\n",
            "2. Resta\n",
            "3. Multiplicación\n",
            "4. Salir\n",
            "Ingresa el número de la opción a elegir (1-4): 5\n",
            "Está opción no es válida\n",
            "1. Suma\n",
            "2. Resta\n",
            "3. Multiplicación\n",
            "4. Salir\n",
            "Ingresa el número de la opción a elegir (1-4): 4\n",
            " Salió del programa\n"
          ]
        }
      ],
      "source": [
        "print(\"Menú de operaciones\")\n",
        "\n",
        "while True:\n",
        "    print(\"1. Suma\")\n",
        "    print(\"2. Resta\")\n",
        "    print(\"3. Multiplicación\")\n",
        "    print(\"4. Salir\")\n",
        "\n",
        "    opcion = input(\"Ingresa el número de la opción a elegir (1-4): \")\n",
        "\n",
        "    if opcion == \"1\":\n",
        "        a = float(input(\"Ingrese un número: \"))\n",
        "        b = float(input(\"Ingrese otro número: \"))\n",
        "        print(f\"El resultado de la suma es: {a + b}\")\n",
        "    elif opcion == \"2\":\n",
        "        a = float(input(\"Ingrese un número: \"))\n",
        "        b = float(input(\"Ingrese otro número: \"))\n",
        "        print(f\"El resultado de la resta es: {a - b}\")\n",
        "    elif opcion == \"3\":\n",
        "        a = float(input(\"Ingrese un número: \"))\n",
        "        b = float(input(\"Ingrese otro número: \"))\n",
        "        print(f\"El resultado de la multiplicación es: {a * b}\")\n",
        "    elif opcion == \"4\":\n",
        "        print(\"Salió del programa\")\n",
        "        break\n",
        "    else:\n",
        "        print(\"Está opción no es válida\")"
      ]
    }
  ]
}